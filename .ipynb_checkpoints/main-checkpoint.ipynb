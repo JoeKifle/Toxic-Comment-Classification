{
 "cells": [
  {
   "cell_type": "markdown",
   "metadata": {},
   "source": [
    "\n",
    "## Toxic Comment Classification Challenge\n",
    "<b>Authors:</b> Yohannis Telila, Dawit Anelay<br>\n",
    "<b>Date :</b> 12/04/2021<br>\n",
    "<b>Course:</b> Human Language Technologies, 2020/2021 A.Y<br>\n",
    "<b>Lecturer:</b> Prof. Giuseppe Attardi<br>\n",
    "<b>data set source :</b> https://www.kaggle.com/c/jigsaw-toxic-comment-classification-challenge/data\n"
   ]
  },
  {
   "cell_type": "code",
   "execution_count": null,
   "metadata": {},
   "outputs": [],
   "source": []
  },
  {
   "cell_type": "code",
   "execution_count": null,
   "metadata": {},
   "outputs": [],
   "source": []
  }
 ],
 "metadata": {
  "kernelspec": {
   "display_name": "Python 3",
   "language": "python",
   "name": "python3"
  },
  "language_info": {
   "codemirror_mode": {
    "name": "ipython",
    "version": 3
   },
   "file_extension": ".py",
   "mimetype": "text/x-python",
   "name": "python",
   "nbconvert_exporter": "python",
   "pygments_lexer": "ipython3",
   "version": "3.8.5"
  }
 },
 "nbformat": 4,
 "nbformat_minor": 4
}
